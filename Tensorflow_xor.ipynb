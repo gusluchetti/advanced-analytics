{
  "nbformat": 4,
  "nbformat_minor": 2,
  "metadata": {
    "colab": {
      "name": "Tensorflow 032022.ipynb",
      "provenance": []
    },
    "kernelspec": {
      "name": "python3",
      "display_name": "Python 3.8.10 64-bit ('venv': venv)"
    },
    "language_info": {
      "name": "python",
      "version": "3.8.10",
      "mimetype": "text/x-python",
      "codemirror_mode": {
        "name": "ipython",
        "version": 3
      },
      "pygments_lexer": "ipython3",
      "nbconvert_exporter": "python",
      "file_extension": ".py"
    },
    "interpreter": {
      "hash": "2ff03567106cc313a291b7a48fa74e30df0907bee2d3bf7996c99377dfd320df"
    }
  },
  "cells": [
    {
      "cell_type": "markdown",
      "source": [
        "variavel_1 | variavel_2 | resultado esperado\n",
        "---------  | ---------  |  ---------\n",
        "     0    |      0     |           1\n",
        "     0    |       1     |           0\n",
        "     1    |       0     |           0\n",
        "     0    |       0     |           1"
      ],
      "metadata": {
        "id": "G1PYld-R_7zg"
      }
    },
    {
      "cell_type": "code",
      "execution_count": 17,
      "source": [
        "import os\n",
        "import tensorflow as tf\n",
        "import tensorflow._api.v2.compat.v1 as tf\n",
        "import numpy as np\n",
        "os.environ['LD_LIBRARY_PATH'] = os.getcwd()\n",
        "tf.disable_v2_behavior()\n"
      ],
      "outputs": [],
      "metadata": {
        "colab": {
          "base_uri": "https://localhost:8080/"
        },
        "id": "pu4BcbZPAXjA",
        "outputId": "3e44ae2c-1150-4be5-ca08-043906ece5b7"
      }
    },
    {
      "cell_type": "code",
      "execution_count": 18,
      "source": [
        "X = np.array([[0,0], [0,1], [1,0], [1,1]])\n",
        "\n",
        "X"
      ],
      "outputs": [
        {
          "output_type": "execute_result",
          "data": {
            "text/plain": [
              "array([[0, 0],\n",
              "       [0, 1],\n",
              "       [1, 0],\n",
              "       [1, 1]])"
            ]
          },
          "metadata": {},
          "execution_count": 18
        }
      ],
      "metadata": {
        "colab": {
          "base_uri": "https://localhost:8080/"
        },
        "id": "o-1-frAuA-tD",
        "outputId": "cc310727-67fb-4530-a2fe-985234b123b9"
      }
    },
    {
      "cell_type": "code",
      "execution_count": 19,
      "source": [
        "y = np.array([[1], [0], [0], [1]])\n",
        "y"
      ],
      "outputs": [
        {
          "output_type": "execute_result",
          "data": {
            "text/plain": [
              "array([[1],\n",
              "       [0],\n",
              "       [0],\n",
              "       [1]])"
            ]
          },
          "metadata": {},
          "execution_count": 19
        }
      ],
      "metadata": {
        "colab": {
          "base_uri": "https://localhost:8080/"
        },
        "id": "hQgsgGnpBRZr",
        "outputId": "5e24c57a-b02e-47f9-c6e8-591a1d4dadeb"
      }
    },
    {
      "cell_type": "code",
      "execution_count": 20,
      "source": [
        "neuronio_entrada = 2\n",
        "neuronio_oculta = 3\n",
        "neuronio_saida = 1"
      ],
      "outputs": [],
      "metadata": {
        "id": "yziEgT8ZBgMJ"
      }
    },
    {
      "cell_type": "code",
      "execution_count": 21,
      "source": [
        "W = {'oculta': tf.Variable(tf.random.normal([neuronio_entrada, neuronio_oculta]), name='w_oculta'),\n",
        "     'saida': tf.Variable(tf.random.normal([neuronio_oculta, neuronio_saida]), name= 'w_saida')\n",
        "     }"
      ],
      "outputs": [],
      "metadata": {
        "id": "K8mIA0ScCHoC"
      }
    },
    {
      "cell_type": "code",
      "execution_count": 22,
      "source": [
        "type(W)\n",
        "type(W['oculta'])\n",
        "W['oculta']\n",
        "W['saida']"
      ],
      "outputs": [
        {
          "output_type": "execute_result",
          "data": {
            "text/plain": [
              "<tf.Variable 'w_saida_1:0' shape=(3, 1) dtype=float32_ref>"
            ]
          },
          "metadata": {},
          "execution_count": 22
        }
      ],
      "metadata": {
        "colab": {
          "base_uri": "https://localhost:8080/"
        },
        "id": "sTCRnS7NDsX8",
        "outputId": "24644449-15b8-4777-d638-890521e5de05"
      }
    },
    {
      "cell_type": "code",
      "execution_count": 23,
      "source": [
        "b = {'oculta': tf.Variable(tf.random.normal([neuronio_oculta]), name='b_oculta'),\n",
        "     'saida': tf.Variable(tf.random.normal([neuronio_saida]), name='b_saida')\n",
        "     }"
      ],
      "outputs": [],
      "metadata": {
        "id": "6LlpPENoEOGH"
      }
    },
    {
      "cell_type": "code",
      "execution_count": 24,
      "source": [
        "xph = tf.placeholder(tf.float32, [4, neuronio_entrada], name='xph')\n",
        "yph = tf.placeholder(tf.float32, [4, neuronio_saida], name='yph')\n",
        "\n"
      ],
      "outputs": [],
      "metadata": {
        "id": "LzyIT5OoE7pc"
      }
    },
    {
      "cell_type": "code",
      "execution_count": 25,
      "source": [
        "camada_oculta = tf.add(tf.matmul(xph, W['oculta']), b['oculta'])\n",
        "camada_oculta_ativacao = tf.sigmoid(camada_oculta)\n",
        "camada_saida = tf.add(tf.matmul(camada_oculta_ativacao, W['saida']), b['saida'])\n",
        "camada_saida_ativacao = tf.sigmoid(camada_saida)\n",
        "\n",
        "erro = tf.losses.mean_squared_error(yph, camada_saida_ativacao)\n",
        "\n",
        "otimizador = tf.train.GradientDescentOptimizer(learning_rate=0.3).minimize(erro)\n"
      ],
      "outputs": [],
      "metadata": {
        "id": "fmx8NXi1GSaY"
      }
    },
    {
      "cell_type": "code",
      "execution_count": 26,
      "source": [
        "init = tf.global_variables_initializer()"
      ],
      "outputs": [],
      "metadata": {
        "id": "yxa7wjV3K_nq"
      }
    },
    {
      "cell_type": "code",
      "execution_count": 27,
      "source": [
        "with tf.Session() as sess:\n",
        "  sess.run(init)\n",
        "  for epocas in range(10000):\n",
        "    erro_medio = 0\n",
        "    _, custo = sess.run([otimizador, erro], feed_dict = {xph: X, yph: y})\n",
        "    if epocas % 200 == 0:\n",
        "      erro_medio += custo/4\n",
        "      print(erro_medio)\n",
        "  \n",
        "  W_final, b_final = sess.run([W, b])"
      ],
      "outputs": [
        {
          "output_type": "stream",
          "name": "stdout",
          "text": [
            "0.06708742678165436\n",
            "0.059710338711738586\n",
            "0.057685621082782745\n",
            "0.054936930537223816\n",
            "0.05199834704399109\n",
            "0.04946955293416977\n",
            "0.04749593883752823\n",
            "0.045924555510282516\n",
            "0.04452253878116608\n",
            "0.04301147907972336\n",
            "0.04102112352848053\n",
            "0.037885114550590515\n",
            "0.03184962272644043\n",
            "0.022584211081266403\n",
            "0.014439888298511505\n",
            "0.009379087947309017\n",
            "0.006508926395326853\n",
            "0.00481815543025732\n",
            "0.0037529957480728626\n",
            "0.003038511611521244\n",
            "0.0025336614344269037\n",
            "0.002161632291972637\n",
            "0.001878000097349286\n",
            "0.0016556661576032639\n",
            "0.0014773332513868809\n",
            "0.0013315121177583933\n",
            "0.0012103145709261298\n",
            "0.001108161872252822\n",
            "0.0010210161563009024\n",
            "0.0009458806016482413\n",
            "0.0008804965764284134\n",
            "0.0008231295505538583\n",
            "0.0007724239258095622\n",
            "0.0007273122319020331\n",
            "0.000686938117723912\n",
            "0.000650608679279685\n",
            "0.0006177588365972042\n",
            "0.0005879223463125527\n",
            "0.0005607120110653341\n",
            "0.0005358036141842604\n",
            "0.0005129213677719235\n",
            "0.0004918334889225662\n",
            "0.0004723409074358642\n",
            "0.000454273191280663\n",
            "0.00043748272582888603\n",
            "0.00042184023186564445\n",
            "0.00040723575511947274\n",
            "0.0003935692075174302\n",
            "0.0003807566245086491\n",
            "0.0003687214048113674\n"
          ]
        }
      ],
      "metadata": {
        "colab": {
          "base_uri": "https://localhost:8080/"
        },
        "id": "GM-HsV0CLKyM",
        "outputId": "db62fb01-f006-499b-faed-a64e550aac92"
      }
    },
    {
      "cell_type": "code",
      "execution_count": 28,
      "source": [
        "W_final"
      ],
      "outputs": [
        {
          "output_type": "execute_result",
          "data": {
            "text/plain": [
              "{'oculta': array([[ 4.121056 , -1.6311717, -6.037538 ],\n",
              "        [ 4.1382875, -2.5196013, -6.0771832]], dtype=float32),\n",
              " 'saida': array([[8.552634 ],\n",
              "        [0.6182586],\n",
              "        [8.20948  ]], dtype=float32)}"
            ]
          },
          "metadata": {},
          "execution_count": 28
        }
      ],
      "metadata": {
        "colab": {
          "base_uri": "https://localhost:8080/"
        },
        "id": "1opTIt6yNMgk",
        "outputId": "187fd155-422f-4641-d1cf-4226284c24cf"
      }
    },
    {
      "cell_type": "code",
      "execution_count": 29,
      "source": [
        "b_final"
      ],
      "outputs": [
        {
          "output_type": "execute_result",
          "data": {
            "text/plain": [
              "{'oculta': array([-6.418074 , -1.6451797,  2.27072  ], dtype=float32),\n",
              " 'saida': array([-4.1791844], dtype=float32)}"
            ]
          },
          "metadata": {},
          "execution_count": 29
        }
      ],
      "metadata": {
        "colab": {
          "base_uri": "https://localhost:8080/"
        },
        "id": "UNxcoWCVNVAB",
        "outputId": "01d01ae4-779b-4086-b2ac-852630b13264"
      }
    },
    {
      "cell_type": "markdown",
      "source": [
        "# Usando o algoritmo"
      ],
      "metadata": {
        "id": "DYam0QWEfO3O"
      }
    },
    {
      "cell_type": "code",
      "execution_count": 30,
      "source": [
        "camada_oculta_teste = tf.add(tf.matmul(xph, W_final['oculta']), b_final['oculta'])\n",
        "camada_oculta_ativacao_teste = tf.sigmoid(camada_oculta_teste)\n",
        "camada_saida_teste = tf.add(tf.matmul(camada_oculta_ativacao_teste, W_final['saida']), b_final['saida'])\n",
        "camada_saida_ativacao_teste = tf.sigmoid(camada_saida_teste)"
      ],
      "outputs": [],
      "metadata": {
        "id": "nSL7Y7dFfYAh"
      }
    },
    {
      "cell_type": "code",
      "execution_count": 31,
      "source": [
        "with tf.Session() as sess:\n",
        "  sess.run(init)\n",
        "  print(sess.run(camada_saida_ativacao_teste, feed_dict={xph: X}))\n",
        "\n"
      ],
      "outputs": [
        {
          "output_type": "stream",
          "name": "stdout",
          "text": [
            "[[0.9669466 ]\n",
            " [0.03926191]\n",
            " [0.03955624]\n",
            " [0.96101797]]\n"
          ]
        }
      ],
      "metadata": {
        "colab": {
          "base_uri": "https://localhost:8080/"
        },
        "id": "O84ZLh3Xhm2Y",
        "outputId": "52ef9c14-24b2-4a4b-861d-983d96390b71"
      }
    }
  ]
}