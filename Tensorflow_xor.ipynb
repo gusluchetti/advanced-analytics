{
  "nbformat": 4,
  "nbformat_minor": 2,
  "metadata": {
    "colab": {
      "name": "Tensorflow 032022.ipynb",
      "provenance": []
    },
    "kernelspec": {
      "name": "python3",
      "display_name": "Python 3.8.10 64-bit ('venv': venv)"
    },
    "language_info": {
      "name": "python",
      "version": "3.8.10",
      "mimetype": "text/x-python",
      "codemirror_mode": {
        "name": "ipython",
        "version": 3
      },
      "pygments_lexer": "ipython3",
      "nbconvert_exporter": "python",
      "file_extension": ".py"
    },
    "interpreter": {
      "hash": "2ff03567106cc313a291b7a48fa74e30df0907bee2d3bf7996c99377dfd320df"
    }
  },
  "cells": [
    {
      "cell_type": "markdown",
      "source": [
        "variavel_1 | variavel_2 | resultado esperado\n",
        "---------  | ---------  |  ---------\n",
        "     0    |      0     |           1\n",
        "     0    |       1     |           0\n",
        "     1    |       0     |           0\n",
        "     0    |       0     |           1"
      ],
      "metadata": {
        "id": "G1PYld-R_7zg"
      }
    },
    {
      "cell_type": "code",
      "execution_count": 3,
      "source": [
        "import tensorflow as tf\n",
        "import numpy as np"
      ],
      "outputs": [
        {
          "output_type": "error",
          "ename": "ModuleNotFoundError",
          "evalue": "No module named 'tensorflow'",
          "traceback": [
            "\u001b[0;31m---------------------------------------------------------------------------\u001b[0m",
            "\u001b[0;31mModuleNotFoundError\u001b[0m                       Traceback (most recent call last)",
            "\u001b[0;32m/tmp/ipykernel_25550/447618041.py\u001b[0m in \u001b[0;36m<module>\u001b[0;34m\u001b[0m\n\u001b[0;32m----> 1\u001b[0;31m \u001b[0;32mimport\u001b[0m \u001b[0mtensorflow\u001b[0m \u001b[0;32mas\u001b[0m \u001b[0mtf\u001b[0m\u001b[0;34m\u001b[0m\u001b[0;34m\u001b[0m\u001b[0m\n\u001b[0m\u001b[1;32m      2\u001b[0m \u001b[0;32mimport\u001b[0m \u001b[0mnumpy\u001b[0m \u001b[0;32mas\u001b[0m \u001b[0mnp\u001b[0m\u001b[0;34m\u001b[0m\u001b[0;34m\u001b[0m\u001b[0m\n",
            "\u001b[0;31mModuleNotFoundError\u001b[0m: No module named 'tensorflow'"
          ]
        }
      ],
      "metadata": {
        "id": "6tbkwaOBAOlV"
      }
    },
    {
      "cell_type": "code",
      "execution_count": null,
      "source": [
        "import tensorflow.compat.v1 as tf\n",
        "tf.disable_v2_behavior()\n"
      ],
      "outputs": [],
      "metadata": {
        "colab": {
          "base_uri": "https://localhost:8080/"
        },
        "id": "pu4BcbZPAXjA",
        "outputId": "3e44ae2c-1150-4be5-ca08-043906ece5b7"
      }
    },
    {
      "cell_type": "code",
      "execution_count": null,
      "source": [
        "X = np.array([[0,0], [0,1], [1,0], [1,1]])\n",
        "\n",
        "X"
      ],
      "outputs": [],
      "metadata": {
        "colab": {
          "base_uri": "https://localhost:8080/"
        },
        "id": "o-1-frAuA-tD",
        "outputId": "cc310727-67fb-4530-a2fe-985234b123b9"
      }
    },
    {
      "cell_type": "code",
      "execution_count": null,
      "source": [
        "y = np.array([[1], [0], [0], [1]])\n",
        "y"
      ],
      "outputs": [],
      "metadata": {
        "colab": {
          "base_uri": "https://localhost:8080/"
        },
        "id": "hQgsgGnpBRZr",
        "outputId": "5e24c57a-b02e-47f9-c6e8-591a1d4dadeb"
      }
    },
    {
      "cell_type": "code",
      "execution_count": null,
      "source": [
        "neuronio_entrada = 2\n",
        "neuronio_oculta = 3\n",
        "neuronio_saida = 1"
      ],
      "outputs": [],
      "metadata": {
        "id": "yziEgT8ZBgMJ"
      }
    },
    {
      "cell_type": "code",
      "execution_count": null,
      "source": [
        "W = {'oculta': tf.Variable(tf.random.normal([neuronio_entrada, neuronio_oculta]), name='w_oculta'),\n",
        "     'saida': tf.Variable(tf.random.normal([neuronio_oculta, neuronio_saida]), name= 'w_saida')\n",
        "     }"
      ],
      "outputs": [],
      "metadata": {
        "id": "K8mIA0ScCHoC"
      }
    },
    {
      "cell_type": "code",
      "execution_count": null,
      "source": [
        "type(W)\n",
        "type(W['oculta'])\n",
        "W['oculta']\n",
        "W['saida']"
      ],
      "outputs": [],
      "metadata": {
        "colab": {
          "base_uri": "https://localhost:8080/"
        },
        "id": "sTCRnS7NDsX8",
        "outputId": "24644449-15b8-4777-d638-890521e5de05"
      }
    },
    {
      "cell_type": "code",
      "execution_count": null,
      "source": [
        "b = {'oculta': tf.Variable(tf.random.normal([neuronio_oculta]), name='b_oculta'),\n",
        "     'saida': tf.Variable(tf.random.normal([neuronio_saida]), name='b_saida')\n",
        "     }"
      ],
      "outputs": [],
      "metadata": {
        "id": "6LlpPENoEOGH"
      }
    },
    {
      "cell_type": "code",
      "execution_count": null,
      "source": [
        "xph = tf.placeholder(tf.float32, [4, neuronio_entrada], name='xph')\n",
        "yph = tf.placeholder(tf.float32, [4, neuronio_saida], name='yph')\n",
        "\n"
      ],
      "outputs": [],
      "metadata": {
        "id": "LzyIT5OoE7pc"
      }
    },
    {
      "cell_type": "code",
      "execution_count": null,
      "source": [
        "camada_oculta = tf.add(tf.matmul(xph, W['oculta']), b['oculta'])\n",
        "camada_oculta_ativacao = tf.sigmoid(camada_oculta)\n",
        "camada_saida = tf.add(tf.matmul(camada_oculta_ativacao, W['saida']), b['saida'])\n",
        "camada_saida_ativacao = tf.sigmoid(camada_saida)\n",
        "\n",
        "erro = tf.losses.mean_squared_error(yph, camada_saida_ativacao)\n",
        "\n",
        "otimizador = tf.train.GradientDescentOptimizer(learning_rate=0.3).minimize(erro)\n"
      ],
      "outputs": [],
      "metadata": {
        "id": "fmx8NXi1GSaY"
      }
    },
    {
      "cell_type": "code",
      "execution_count": null,
      "source": [
        "init = tf.global_variables_initializer()"
      ],
      "outputs": [],
      "metadata": {
        "id": "yxa7wjV3K_nq"
      }
    },
    {
      "cell_type": "code",
      "execution_count": null,
      "source": [
        "with tf.Session() as sess:\n",
        "  sess.run(init)\n",
        "  for epocas in range(10000):\n",
        "    erro_medio = 0\n",
        "    _, custo = sess.run([otimizador, erro], feed_dict = {xph: X, yph: y})\n",
        "    if epocas % 200 == 0:\n",
        "      erro_medio += custo/4\n",
        "      print(erro_medio)\n",
        "  \n",
        "  W_final, b_final = sess.run([W, b])"
      ],
      "outputs": [],
      "metadata": {
        "colab": {
          "base_uri": "https://localhost:8080/"
        },
        "id": "GM-HsV0CLKyM",
        "outputId": "db62fb01-f006-499b-faed-a64e550aac92"
      }
    },
    {
      "cell_type": "code",
      "execution_count": null,
      "source": [
        "W_final"
      ],
      "outputs": [],
      "metadata": {
        "colab": {
          "base_uri": "https://localhost:8080/"
        },
        "id": "1opTIt6yNMgk",
        "outputId": "187fd155-422f-4641-d1cf-4226284c24cf"
      }
    },
    {
      "cell_type": "code",
      "execution_count": null,
      "source": [
        "b_final"
      ],
      "outputs": [],
      "metadata": {
        "colab": {
          "base_uri": "https://localhost:8080/"
        },
        "id": "UNxcoWCVNVAB",
        "outputId": "01d01ae4-779b-4086-b2ac-852630b13264"
      }
    },
    {
      "cell_type": "markdown",
      "source": [
        "# Usando o algoritmo"
      ],
      "metadata": {
        "id": "DYam0QWEfO3O"
      }
    },
    {
      "cell_type": "code",
      "execution_count": null,
      "source": [
        "camada_oculta_teste = tf.add(tf.matmul(xph, W_final['oculta']), b_final['oculta'])\n",
        "camada_oculta_ativacao_teste = tf.sigmoid(camada_oculta_teste)\n",
        "camada_saida_teste = tf.add(tf.matmul(camada_oculta_ativacao_teste, W_final['saida']), b_final['saida'])\n",
        "camada_saida_ativacao_teste = tf.sigmoid(camada_saida_teste)"
      ],
      "outputs": [],
      "metadata": {
        "id": "nSL7Y7dFfYAh"
      }
    },
    {
      "cell_type": "code",
      "execution_count": null,
      "source": [
        "with tf.Session() as sess:\n",
        "  sess.run(init)\n",
        "  print(sess.run(camada_saida_ativacao_teste, feed_dict={xph: X}))\n",
        "\n"
      ],
      "outputs": [],
      "metadata": {
        "colab": {
          "base_uri": "https://localhost:8080/"
        },
        "id": "O84ZLh3Xhm2Y",
        "outputId": "52ef9c14-24b2-4a4b-861d-983d96390b71"
      }
    }
  ]
}